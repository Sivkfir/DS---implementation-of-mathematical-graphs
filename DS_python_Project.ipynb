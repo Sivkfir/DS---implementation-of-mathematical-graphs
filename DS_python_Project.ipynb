{
 "cells": [
  {
   "cell_type": "markdown",
   "metadata": {},
   "source": [
    "-------------------------------------------------------------------------------------------------------------------\n",
    "-------------------------------------------------------------------------------------------------------------------\n",
    "\n",
    "## Part I – The Node class \n",
    "-------------------------------------------------------------------------------------------------------------------\n",
    "-------------------------------------------------------------------------------------------------------------------\n"
   ]
  },
  {
   "cell_type": "markdown",
   "metadata": {},
   "source": [
    "# Creating the Node Class:\n"
   ]
  },
  {
   "cell_type": "code",
   "execution_count": 2439,
   "metadata": {},
   "outputs": [],
   "source": [
    "class Node:\n",
    "    \n",
    "    def __init__ (self,node_name,**node_neighbors):\n",
    "        self.name = node_name\n",
    "        self.neighbors = node_neighbors\n",
    "        \n",
    "    def __str__ (self):\n",
    "        return str(self.name)\n",
    "    \n",
    "    def __len__ (self):\n",
    "        return len(self.neighbors.keys())\n",
    "    \n",
    "    def __contains__ (self,item):\n",
    "        return item in self.neighbors\n",
    "            \n",
    "    def getitem (self,key):\n",
    "        if key in self:\n",
    "            return self.neighbors[key]\n",
    "        else:\n",
    "            return None\n",
    "        \n",
    "    def __eq__ (self,other):\n",
    "        return self.name == other.name\n",
    "\n",
    "    def __ne__(self, other):\n",
    "        return not (self.name == other.name)\n",
    "    \n",
    "    def is_neighbor(self, name):\n",
    "        return name in self.neighbors\n",
    "    \n",
    "    def n_update(self, name, weight):\n",
    "        if self.name == name:\n",
    "            return ('cannot add a neighbor that has the Node name')\n",
    "        if name not in self.neighbors:\n",
    "            self.neighbors[name] = weight\n",
    "        else:\n",
    "            if self.neighbors[name] > weight:\n",
    "                pass\n",
    "            else:\n",
    "                self.neighbors[name] = weight\n",
    "                \n",
    "    def remove_neighbor(self, name):\n",
    "        if name not in self.neighbors:\n",
    "            return None\n",
    "        else:\n",
    "            del(self.neighbors[name])\n",
    "            \n",
    "    def is_isolated(self):\n",
    "        return not bool(self.neighbors)\n",
    "    "
   ]
  },
  {
   "cell_type": "markdown",
   "metadata": {},
   "source": [
    "# Sample data creation\n"
   ]
  },
  {
   "cell_type": "code",
   "execution_count": 2440,
   "metadata": {},
   "outputs": [],
   "source": [
    "N1 = Node('N1', N4 = 20, N5 = 20, N6 = 5)\n",
    "N2 = Node('N2', N3 = 5, N4 = 10)\n",
    "N3 = Node('N3', N4 = 5)\n",
    "N4 = Node('N4', N5 = 10)\n",
    "N5 = Node('N5', N6 = 5)\n",
    "N6 = Node('N6')\n",
    "N7 = Node('N7', N6 = 10)\n",
    "N8 = Node('N8', N2 = 20, N1 = 5, N7 = 5)\n",
    "N9 = Node('N9', N10 = 10, N2 = 15,N8 = 20)\n",
    "N10 = Node('N10', N3 = 15,N2 = 10)"
   ]
  },
  {
   "cell_type": "code",
   "execution_count": 2441,
   "metadata": {},
   "outputs": [],
   "source": [
    "Nodes_list = [N1,N2,N3,N4,N5,N6,N7,N8,N9,N10]"
   ]
  },
  {
   "cell_type": "markdown",
   "metadata": {},
   "source": [
    "# Question 1\n",
    "Create 10 Node objects according to the figure above, print them (textually, of course)."
   ]
  },
  {
   "cell_type": "code",
   "execution_count": 2442,
   "metadata": {},
   "outputs": [
    {
     "name": "stdout",
     "output_type": "stream",
     "text": [
      "N1 {'N4': 20, 'N5': 20, 'N6': 5}\n",
      "N2 {'N3': 5, 'N4': 10}\n",
      "N3 {'N4': 5}\n",
      "N4 {'N5': 10}\n",
      "N5 {'N6': 5}\n",
      "N6 {}\n",
      "N7 {'N6': 10}\n",
      "N8 {'N2': 20, 'N1': 5, 'N7': 5}\n",
      "N9 {'N10': 10, 'N2': 15, 'N8': 20}\n",
      "N10 {'N3': 15, 'N2': 10}\n"
     ]
    }
   ],
   "source": [
    "for n in Nodes_list:\n",
    "    print(n.name,n.neighbors)"
   ]
  },
  {
   "cell_type": "markdown",
   "metadata": {},
   "source": [
    "# Question 2\n",
    "Make some tests to make sure your implementation works."
   ]
  },
  {
   "cell_type": "code",
   "execution_count": 785,
   "metadata": {},
   "outputs": [
    {
     "name": "stdout",
     "output_type": "stream",
     "text": [
      "print, eq and ne\n",
      "N1\n",
      "N1\n",
      "True\n",
      "Updating Nodes --------------------------------\n",
      "{'N4': 20, 'N5': 20, 'N6': 5, 'N2': 10}\n",
      "Removing Nodes (even if doesnt exists) --------------------------------\n",
      "{'N3': 15, 'N2': 10}\n",
      "{'N3': 15, 'N2': 10, 'N12': 30}\n",
      "{'N3': 15, 'N2': 10}\n",
      "Checking for neighbors--------------------------------\n",
      "False\n",
      "False\n",
      "True\n",
      "True\n",
      "Checking is_isolated--------------------------------\n",
      "False\n",
      "False\n",
      "getitem--------------------------------\n",
      "10\n"
     ]
    }
   ],
   "source": [
    "# print, eq and ne:\n",
    "print('print, eq and ne')\n",
    "print(N1)\n",
    "N16 = Node('N1',N15 = 10)\n",
    "print(N16)\n",
    "print (N1 == N16)\n",
    "print('Updating Nodes --------------------------------')\n",
    "# Updating Nodes:\n",
    "N1.n_update('N2', 10)\n",
    "print(N1.neighbors)\n",
    "N1.n_update('N7',15)\n",
    "N3.n_update('N2', 15)\n",
    "print('Removing Nodes (even if doesnt exists) --------------------------------')\n",
    "# Removing Nodes (even if doesnt exists):\n",
    "N6.remove_neighbor('N1')\n",
    "print(N6.neighbors)\n",
    "N6.n_update('N12',30)\n",
    "print(N6.neighbors)\n",
    "N6.remove_neighbor('N12')\n",
    "print(N6.neighbors)\n",
    "print('Checking for neighbors--------------------------------')\n",
    "# Checking for neighbors:\n",
    "print('N1' in 'N2')\n",
    "print(N2.is_neighbor('N1'))\n",
    "print('N1' in 'N1')\n",
    "print(N1.is_neighbor('N2'))\n",
    "print('Checking is_isolated--------------------------------')\n",
    "# Checking is_isolated:\n",
    "\n",
    "print(N6.is_isolated())\n",
    "print(N1.is_isolated())\n",
    "print('getitem--------------------------------')\n",
    "# getitem:\n",
    "\n",
    "print(N1.getitem('N2'))\n"
   ]
  },
  {
   "cell_type": "markdown",
   "metadata": {},
   "source": [
    "# Question 3\n",
    "How many edges are in the graph, and what is their total weight?"
   ]
  },
  {
   "cell_type": "code",
   "execution_count": 33,
   "metadata": {},
   "outputs": [
    {
     "name": "stdout",
     "output_type": "stream",
     "text": [
      "The total weight for Nodes in graph is: 190 \n",
      "The total number of edges for Nodes in graph is: 17 \n"
     ]
    }
   ],
   "source": [
    "nodes_weight = 0\n",
    "nodes_edges = 0\n",
    "\n",
    "for n in Nodes_list:\n",
    "    nodes_edges += len(n)\n",
    "    for v in n.neighbors.values():\n",
    "        nodes_weight += v\n",
    "        \n",
    "print('The total weight for Nodes in graph is: {} '.format(nodes_weight))\n",
    "print('The total number of edges for Nodes in graph is: {} '.format(nodes_edges))"
   ]
  },
  {
   "cell_type": "markdown",
   "metadata": {},
   "source": [
    "# Question 4\n",
    "Sort the nodes by the number of their neighbors."
   ]
  },
  {
   "cell_type": "code",
   "execution_count": 155,
   "metadata": {},
   "outputs": [],
   "source": [
    "sorted_nodes = sorted(Nodes_list, key = lambda x : len(x))"
   ]
  },
  {
   "cell_type": "markdown",
   "metadata": {},
   "source": [
    "To view the sorted nodes in a list:"
   ]
  },
  {
   "cell_type": "code",
   "execution_count": 164,
   "metadata": {},
   "outputs": [
    {
     "name": "stdout",
     "output_type": "stream",
     "text": [
      "['N6', 'N4', 'N5', 'N7', 'N2', 'N3', 'N10', 'N8', 'N9', 'N1']\n"
     ]
    }
   ],
   "source": [
    "sorted_nodes_list = []\n",
    "for i in sorted_nodes:\n",
    "    sorted_nodes_list.append(i.name)\n",
    "print(sorted_nodes_list)"
   ]
  },
  {
   "cell_type": "markdown",
   "metadata": {},
   "source": [
    "-------------------------------------------------------------------------------------------------------------------\n",
    "-------------------------------------------------------------------------------------------------------------------\n",
    "\n",
    "## Part II – The Graph class \n",
    "-------------------------------------------------------------------------------------------------------------------\n",
    "-------------------------------------------------------------------------------------------------------------------\n"
   ]
  },
  {
   "cell_type": "markdown",
   "metadata": {},
   "source": [
    "# Creating the Graph Class:\n",
    "\n",
    "\n",
    "\n",
    "\n"
   ]
  },
  {
   "cell_type": "code",
   "execution_count": 2162,
   "metadata": {},
   "outputs": [],
   "source": [
    "class Graph:\n",
    "    \n",
    "    def __init__ (self,name, nodes=[]):\n",
    "        self.name = name\n",
    "        self.nodes = {}\n",
    "        for node in nodes:\n",
    "            self.nodes[node.name] = node\n",
    "       \n",
    "    def __str__(self):\n",
    "        \n",
    "        print('Graph name {}:'.format(self.name))\n",
    "\n",
    "        description=''\n",
    "\n",
    "        for k,v in self.nodes.items():\n",
    "            description = description + ('\\nNode {}, {} neighbors:'.format(k, len(v)))\n",
    "            for vk,vv in self.nodes[k].neighbors.items():\n",
    "                description = description + (' name:{}, weight:{}'.format(vk , vv))\n",
    "            description = description + '\\n'\n",
    "        return description\n",
    "\n",
    "    \n",
    "    def __len__(self):\n",
    "        return len(self.nodes.keys())\n",
    "    \n",
    "    def __contains__(self, key):\n",
    "        if isinstance(key,Node):\n",
    "            return key.name in self.nodes.keys()\n",
    "        elif type(key) == str:\n",
    "            return key in self.nodes.keys()\n",
    "\n",
    "    def getitem (self, name):\n",
    "        if name not in self.nodes:\n",
    "            raise KeyError(\"Node is not in graph\")\n",
    "        else:\n",
    "            return self.nodes[name]\n",
    "        \n",
    "    def __add__(self, other):\n",
    "        \n",
    "        NG = Graph('{}_{}'.format(other.name,self.name))  #Creating new graph\n",
    "        \n",
    "        for k,v in self.nodes.items():                    #appending first graph nodes into new graph\n",
    "            NG.nodes[str(k)]=v\n",
    "            \n",
    "        for kk,vv in other.nodes.items():                   # appending second graph nodes only if not exists in first graph\n",
    "            if kk not in NG:\n",
    "                NG.nodes[str(kk)]=vv\n",
    "                \n",
    "            else:\n",
    "                for k in NG.nodes:\n",
    "                    if kk == k:\n",
    "                        node_to_update = Node(k)\n",
    "                        node_to_update_from = Node(kk)\n",
    "                        for ne_k,ne_v in other.nodes[kk].neighbors.items():\n",
    "                            NG.nodes[k].n_update(ne_k,ne_v)\n",
    "                \n",
    "        return NG\n",
    "        \n",
    "        \n",
    "    def update(self,node):\n",
    "\n",
    "        if node in self:                                   # check if new node is in graph\n",
    "            for kk,vv in self.nodes.items():\n",
    "                if kk == node.name:                        # go through graph's nodes and find the relevane one\n",
    "                    for k,v in node.neighbors.items():\n",
    "                        if k in self.nodes:                # add neighbor only if exists in graph\n",
    "                            self.nodes[kk].n_update(k,v)\n",
    "\n",
    "        else:\n",
    "\n",
    "            if len(node)>0:                                # if node not in graph nut has neighbors:\n",
    "                new_node_in_graph = Node(node.name)\n",
    "                for k,v in node.neighbors.items():\n",
    "                    if k in self.nodes:\n",
    "                        new_node_in_graph.n_update(k,v)    # Create new node that will be added to graph\n",
    "                self.nodes[node.name] = new_node_in_graph\n",
    "                        \n",
    "                        \n",
    "\n",
    "            else:\n",
    "                self.nodes[node.name] = node  \n",
    "                \n",
    "    def remove_node(self, name):\n",
    "        \n",
    "        if name not in self:\n",
    "            print('Node {} is not in graph'.format(name))\n",
    "        else:\n",
    "            self.nodes.pop(name)\n",
    "#             This method should not remove edges, in which name is a neighbor of other\n",
    "#             nodes in the graph.?????????\n",
    "\n",
    "    def is_edge(self, frm_name, to_name):\n",
    "        \n",
    "        if frm_name in self:\n",
    "            return self.nodes[frm_name].is_neighbor(to_name)\n",
    "        \n",
    "    def add_edge(self, frm_name, to_name, weight=1):\n",
    "        \n",
    "        if frm_name in self and to_name in self:\n",
    "            self.nodes[frm_name].n_update(to_name,weight)\n",
    "            \n",
    "    def remove_edge(self, frm_name, to_name):\n",
    "        \n",
    "        if frm_name in self:\n",
    "            self.nodes[frm_name].remove_neighbor(to_name)   \n",
    "            \n",
    "    def get_edge_weight(self, frm_name, to_name):\n",
    "        \n",
    "        if frm_name in self:\n",
    "            if self.is_edge(frm_name,to_name):\n",
    "                return self.nodes[frm_name].neighbors[to_name]\n",
    "            else:\n",
    "                return None\n",
    "            \n",
    "    def get_path_weight(self, path):\n",
    "        \n",
    "        nodes_path=list(path)\n",
    "        weight_list=[]\n",
    "        \n",
    "        for i in range(len(nodes_path)-1):\n",
    "            weight_list.append(self.get_edge_weight(str(nodes_path[i]),str(nodes_path[i+1])))\n",
    "            \n",
    "        if all(weight_list):\n",
    "            return sum(weight_list)\n",
    "        \n",
    "    def is_reachable(self, frm_name, to_name):\n",
    "        \n",
    "        all_nodes_set = set(self.nodes[frm_name].neighbors.keys())\n",
    "        previous_loop_set = set()\n",
    "        \n",
    "        if frm_name in self and to_name in self:\n",
    "            while  (len(all_nodes_set) != len(previous_loop_set)) and to_name not in all_nodes_set:\n",
    "                previous_loop_set = all_nodes_set\n",
    "                for n in all_nodes_set:\n",
    "                    round_node_set = set(self.nodes[n].neighbors.keys())\n",
    "                    all_nodes_set = all_nodes_set | round_node_set\n",
    "            if to_name in all_nodes_set:\n",
    "                return True\n",
    "            else:\n",
    "                return False\n",
    "            \n",
    "    def find_all_paths(self, frm_name, to_name, path=[]):\n",
    "        path = path + [frm_name]\n",
    "        if frm_name == to_name:\n",
    "            return [path]\n",
    "        if frm_name not in self.nodes:\n",
    "            return []\n",
    "\n",
    "        paths = []\n",
    "\n",
    "        for node in self.nodes[frm_name].neighbors:\n",
    "            if node not in path:\n",
    "                newpaths = self.find_all_paths( node, to_name,path)\n",
    "                for newpath in newpaths:\n",
    "                    paths.append(newpath)\n",
    "        return paths\n",
    "            \n",
    "    def find_shortest_path(self, frm_name, to_name):\n",
    "        \n",
    "        if self.is_reachable(frm_name,to_name):\n",
    "        \n",
    "            paths = self.find_all_paths(frm_name,to_name)\n",
    "            paths_and_weights = {}\n",
    "            for p in paths:\n",
    "                path_weight = self.get_path_weight(p)\n",
    "                paths_and_weights[path_weight] = p\n",
    "            return min(paths_and_weights.keys())\n",
    "            "
   ]
  },
  {
   "cell_type": "markdown",
   "metadata": {},
   "source": [
    "# Question 1 \n",
    "Create 3 Graph objects, each contains a different collection of nodes, which together contain all 10 nodes. Use the __add()__ method to create a total graph that contains the entire data of the example."
   ]
  },
  {
   "cell_type": "code",
   "execution_count": 2409,
   "metadata": {},
   "outputs": [],
   "source": [
    " N1 = Node('N1', N4 = 20, N5 = 20, N6 = 5)\n",
    "Nodes_list = [N1,N2,N3,N4,N5,N6,N7,N8,N9,N10]\n",
    "Nodes_list1 = [N10]\n",
    "g_test = Graph('sivan', Nodes_list)\n",
    "g_test1 = Graph('sivan1', Nodes_list1)"
   ]
  },
  {
   "cell_type": "code",
   "execution_count": 2410,
   "metadata": {},
   "outputs": [],
   "source": [
    "N3 = Node('N3', N4 = 5)\n",
    "\n",
    "g1_nodes = [N1,N2,N3]\n",
    "N3 = Node('N3', N4 = 20, N6 = 5)\n",
    "\n",
    "g2_nodes = [N3,N4]\n",
    "g1 = Graph('g1',g1_nodes)\n",
    "g2 = Graph('g2',g2_nodes)"
   ]
  },
  {
   "cell_type": "code",
   "execution_count": 2411,
   "metadata": {},
   "outputs": [
    {
     "name": "stdout",
     "output_type": "stream",
     "text": [
      "Graph name g1:\n",
      "\n",
      "Node N1, 3 neighbors: name:N4, weight:20 name:N5, weight:20 name:N6, weight:5\n",
      "\n",
      "Node N2, 3 neighbors: name:N3, weight:5 name:N4, weight:10 name:N5, weight:40\n",
      "\n",
      "Node N3, 1 neighbors: name:N4, weight:5\n",
      "\n",
      "Graph name g2:\n",
      "\n",
      "Node N3, 2 neighbors: name:N4, weight:20 name:N6, weight:5\n",
      "\n",
      "Node N4, 1 neighbors: name:N5, weight:10\n",
      "\n"
     ]
    }
   ],
   "source": [
    "print(g1)\n",
    "print(g2)\n"
   ]
  },
  {
   "cell_type": "code",
   "execution_count": 2412,
   "metadata": {},
   "outputs": [
    {
     "name": "stdout",
     "output_type": "stream",
     "text": [
      "Graph name g2_g1:\n",
      "\n",
      "Node N1, 3 neighbors: name:N4, weight:20 name:N5, weight:20 name:N6, weight:5\n",
      "\n",
      "Node N2, 3 neighbors: name:N3, weight:5 name:N4, weight:10 name:N5, weight:40\n",
      "\n",
      "Node N3, 2 neighbors: name:N4, weight:20 name:N6, weight:5\n",
      "\n",
      "Node N4, 1 neighbors: name:N5, weight:10\n",
      "\n"
     ]
    }
   ],
   "source": [
    "g3 = g1 + g2\n",
    "print(g3)"
   ]
  },
  {
   "cell_type": "markdown",
   "metadata": {},
   "source": [
    "# Question 2 \n",
    "Make some tests to make sure your implementation works. "
   ]
  },
  {
   "cell_type": "code",
   "execution_count": 2078,
   "metadata": {},
   "outputs": [
    {
     "data": {
      "text/plain": [
       "{'N4': 5}"
      ]
     },
     "execution_count": 2078,
     "metadata": {},
     "output_type": "execute_result"
    }
   ],
   "source": [
    "g2.nodes['N3'].neighbors\n",
    "g1.nodes['N3'].neighbors\n"
   ]
  },
  {
   "cell_type": "code",
   "execution_count": 1726,
   "metadata": {},
   "outputs": [
    {
     "data": {
      "text/plain": [
       "True"
      ]
     },
     "execution_count": 1726,
     "metadata": {},
     "output_type": "execute_result"
    }
   ],
   "source": [
    "g_test.is_reachable('N9','N2')\n",
    "# print(N4.is_neighbor('N2'))"
   ]
  },
  {
   "cell_type": "code",
   "execution_count": 1727,
   "metadata": {},
   "outputs": [
    {
     "name": "stdout",
     "output_type": "stream",
     "text": [
      "25\n"
     ]
    }
   ],
   "source": [
    "print(g_test.find_shortest_path('N9','N4'))"
   ]
  },
  {
   "cell_type": "code",
   "execution_count": 1728,
   "metadata": {},
   "outputs": [],
   "source": [
    "g_test.add_edge('N2','N5',40)\n",
    "# g_test.remove_edge('N2','N5')"
   ]
  },
  {
   "cell_type": "code",
   "execution_count": 1729,
   "metadata": {},
   "outputs": [
    {
     "name": "stdout",
     "output_type": "stream",
     "text": [
      "None\n"
     ]
    }
   ],
   "source": [
    "print(g_test.get_edge_weight('N2','N2'))"
   ]
  },
  {
   "cell_type": "code",
   "execution_count": 1018,
   "metadata": {},
   "outputs": [
    {
     "name": "stdout",
     "output_type": "stream",
     "text": [
      "{'N5', 'N6', 'N4'}\n"
     ]
    }
   ],
   "source": [
    "test = set (g_test.nodes['N1'].neighbors.keys())\n",
    "print(test)"
   ]
  },
  {
   "cell_type": "code",
   "execution_count": 1829,
   "metadata": {},
   "outputs": [
    {
     "name": "stdout",
     "output_type": "stream",
     "text": [
      "Graph name sivan:\n",
      "\n",
      "Node N1, 3 neighbors: name:N4, weight:20 name:N5, weight:20 name:N6, weight:5\n",
      "\n",
      "Node N2, 3 neighbors: name:N3, weight:5 name:N4, weight:10 name:N5, weight:40\n",
      "\n",
      "Node N3, 1 neighbors: name:N4, weight:5\n",
      "\n",
      "Node N4, 1 neighbors: name:N5, weight:10\n",
      "\n",
      "Node N5, 1 neighbors: name:N6, weight:5\n",
      "\n",
      "Node N6, 0 neighbors:\n",
      "\n",
      "Node N7, 1 neighbors: name:N6, weight:10\n",
      "\n",
      "Node N8, 3 neighbors: name:N2, weight:20 name:N1, weight:5 name:N7, weight:5\n",
      "\n",
      "Node N9, 3 neighbors: name:N10, weight:10 name:N2, weight:15 name:N8, weight:20\n",
      "\n",
      "Node N10, 2 neighbors: name:N3, weight:15 name:N2, weight:10\n",
      "\n"
     ]
    }
   ],
   "source": [
    "len(g_test)\n",
    "print(g_test)"
   ]
  },
  {
   "cell_type": "code",
   "execution_count": 749,
   "metadata": {},
   "outputs": [],
   "source": [
    "N10 = Node('N10', N3 = 15,N2 = 10 , N12 = 3)"
   ]
  },
  {
   "cell_type": "code",
   "execution_count": 750,
   "metadata": {},
   "outputs": [],
   "source": [
    "g_test.update(N10)"
   ]
  },
  {
   "cell_type": "code",
   "execution_count": 644,
   "metadata": {},
   "outputs": [],
   "source": [
    "N1 = Node('N1', N4 = 20, N5 = 20, N6 = 50, N20 = 5 )"
   ]
  },
  {
   "cell_type": "code",
   "execution_count": 732,
   "metadata": {},
   "outputs": [],
   "source": [
    "g_test.update(N1)"
   ]
  },
  {
   "cell_type": "code",
   "execution_count": 448,
   "metadata": {},
   "outputs": [
    {
     "data": {
      "text/plain": [
       "True"
      ]
     },
     "execution_count": 448,
     "metadata": {},
     "output_type": "execute_result"
    }
   ],
   "source": [
    "N3 in g_test"
   ]
  },
  {
   "cell_type": "code",
   "execution_count": 567,
   "metadata": {},
   "outputs": [],
   "source": [
    "g_test1 = Graph('skdj',N4,N5)"
   ]
  },
  {
   "cell_type": "code",
   "execution_count": 424,
   "metadata": {},
   "outputs": [],
   "source": [
    "Node(g_test.nodes['N1']).n_update('N89',100)"
   ]
  },
  {
   "cell_type": "code",
   "execution_count": 481,
   "metadata": {},
   "outputs": [
    {
     "data": {
      "text/plain": [
       "{'N4': 20, 'N5': 20, 'N6': 5}"
      ]
     },
     "execution_count": 481,
     "metadata": {},
     "output_type": "execute_result"
    }
   ],
   "source": [
    "(Nw.N1.neighbors)"
   ]
  },
  {
   "cell_type": "markdown",
   "metadata": {},
   "source": [
    "# Question 3\n",
    "Sort the nodes by the number of their reachable nodes. "
   ]
  },
  {
   "cell_type": "code",
   "execution_count": 1259,
   "metadata": {},
   "outputs": [
    {
     "name": "stdout",
     "output_type": "stream",
     "text": [
      "[('N6', 0), ('N5', 1), ('N7', 1), ('N4', 2), ('N1', 3), ('N3', 3), ('N2', 4), ('N10', 5), ('N8', 7), ('N9', 9)]\n"
     ]
    }
   ],
   "source": [
    "nodes_dict={}\n",
    "for n in g_test.nodes:\n",
    "    count = 0\n",
    "    for nn in g_test.nodes:\n",
    "        if g_test.is_reachable(n,nn):\n",
    "            count += 1\n",
    "        else:\n",
    "            count += 0\n",
    "        nodes_dict[n] = count\n",
    "print(sorted(nodes_dict.items(), key=lambda x: x[1]))\n"
   ]
  },
  {
   "cell_type": "markdown",
   "metadata": {},
   "source": [
    "# Question 4 \n",
    "What is the pair of nodes that the shortest path between them has the highest weight? "
   ]
  },
  {
   "cell_type": "code",
   "execution_count": 1333,
   "metadata": {},
   "outputs": [
    {
     "name": "stdout",
     "output_type": "stream",
     "text": [
      "('N10 N6', 35)\n"
     ]
    }
   ],
   "source": [
    "nodes_dict={} \n",
    "for n in g_test.nodes:\n",
    "    for nn in g_test.nodes:\n",
    "        if g_test.is_reachable(n,nn):\n",
    "            sp = g_test.find_shortest_path(n,nn)\n",
    "            nodes_dict[str(n)+' '+str(nn)] = sp\n",
    "all_shortest_path_list = list(sorted(nodes_dict.items(), key=lambda x: x[1]))\n",
    "\n",
    "print(all_shortest_path_list[-1])"
   ]
  },
  {
   "cell_type": "markdown",
   "metadata": {},
   "source": [
    "# Task 3 – The roadmap implementation \n",
    "The files travelsEW.csv and travelsWE.csv record a large number of travels made by people from five regions in the country, called Center, North, South, East and West. \n"
   ]
  },
  {
   "cell_type": "code",
   "execution_count": 2101,
   "metadata": {},
   "outputs": [],
   "source": [
    "import csv\n",
    "from datetime import datetime, timedelta\n",
    "\n",
    "# file_name = 'travelsEW'\n",
    "# date_parse = \n",
    "\n",
    "with open('travelsEW.csv','r') as f:\n",
    "    \n",
    "    get_nodes_list = []\n",
    "    get_neighbors_list=[]\n",
    "    get_nodes_with_time_list=[]\n",
    "    avg_time_list=[]\n",
    "    Error_dates_parsing =[]\n",
    "    reader = csv.reader(f)\n",
    "    next(reader)                                                             # skip header\n",
    "    \n",
    "    for r in reader:                                                         #Getting Nodes from file\n",
    "        if len(r) == 4:\n",
    "            if Node(r[0]) not in get_nodes_list:\n",
    "                get_nodes_list.append(Node(r[0]))    \n",
    "            if Node(r[2]) not in get_neighbors_list:\n",
    "                get_neighbors_list.append(Node(r[2])) \n",
    "            \n",
    "            try:\n",
    "                datetime.strptime(r[1], '%d/%m/%Y %Hh%Mm')\n",
    "            except ValueError:\n",
    "                Error_dates_parsing.append(r)\n",
    "                continue\n",
    "                \n",
    "            try:\n",
    "                datetime.strptime(r[3], '%d/%m/%Y %Hh%Mm')\n",
    "            except ValueError:\n",
    "                Error_dates_parsing.append(r)\n",
    "                continue\n",
    "            \n",
    "            t_login_str = r[1]\n",
    "            t_login = datetime.strptime(t_login_str, '%d/%m/%Y %Hh%Mm')\n",
    "            t_logout_str = r[3]\n",
    "            t_logout = datetime.strptime(t_logout_str, '%d/%m/%Y %Hh%Mm')\n",
    "            if t_logout >= t_login:\n",
    "                dt_signed = (t_logout - t_login).total_seconds()\n",
    "                get_nodes_with_time_list.append([r[0],r[2],dt_signed])\n",
    "        \n",
    "    log_rows = sorted(get_nodes_with_time_list)\n",
    "    \n",
    "    for ni,nt in enumerate(get_nodes_list):                       \n",
    "        for i,n in enumerate(get_neighbors_list): \n",
    "            counter = 0\n",
    "            log_time = 0\n",
    "            for ine,ne in enumerate(log_rows): \n",
    "                if nt.name == ne[0] and n.name == ne[1]:\n",
    "#                     time = str(log_rows[ine][2])\n",
    "                    log_time += log_rows[ine][2]#sum(x * int(t) for x, t in zip([3600, 60, 1], time.split(\":\"))) \n",
    "                    counter += 1\n",
    "            if counter != 0:\n",
    "                avg_time = int(log_time / counter)\n",
    "                avg_time_list.append([nt.name,n.name,avg_time])\n",
    "\n",
    "    \n",
    "    for n in get_nodes_list:\n",
    "        for ne in avg_time_list:\n",
    "            if n.name == ne[0]:\n",
    "                n.n_update(ne[1],ne[2])\n",
    "                \n",
    "    travelsEW = Graph('travelsEW', get_nodes_list)\n",
    "    "
   ]
  },
  {
   "cell_type": "code",
   "execution_count": 2102,
   "metadata": {},
   "outputs": [
    {
     "name": "stdout",
     "output_type": "stream",
     "text": [
      "Graph name travelsEW:\n",
      "\n",
      "Node Center, 2 neighbors: name:West, weight:5377 name:North, weight:5308\n",
      "\n",
      "Node East, 1 neighbors: name:South, weight:3596\n",
      "\n"
     ]
    }
   ],
   "source": [
    "print(travelsEW)"
   ]
  },
  {
   "cell_type": "code",
   "execution_count": 2103,
   "metadata": {},
   "outputs": [],
   "source": [
    "import csv\n",
    "from datetime import datetime, timedelta\n",
    "\n",
    "with open('travelsWE.csv','r') as f:\n",
    "    \n",
    "    get_nodes_list = []\n",
    "    get_neighbors_list=[]\n",
    "    get_nodes_with_time_list=[]\n",
    "    avg_time_list=[]\n",
    "    Error_dates_parsing =[]\n",
    "    reader = csv.reader(f)\n",
    "    next(reader)                                                             # skip header\n",
    "    \n",
    "    for r in reader:                                                         #Getting Nodes from file\n",
    "        if len(r) == 4:\n",
    "            if Node(r[0]) not in get_nodes_list:\n",
    "                get_nodes_list.append(Node(r[0]))    \n",
    "            if Node(r[2]) not in get_neighbors_list:\n",
    "                get_neighbors_list.append(Node(r[2])) \n",
    "            \n",
    "            try:\n",
    "                datetime.strptime(r[1], \"%H:%M:%S%p ; %b %d %y\")  #01:21:00AM ; Jan 01 16\n",
    "            except ValueError:\n",
    "                Error_dates_parsing.append(r)\n",
    "                continue\n",
    "                \n",
    "            try:\n",
    "                datetime.strptime(r[3], \"%H:%M:%S%p ; %b %d %y\")\n",
    "            except ValueError:\n",
    "                Error_dates_parsing.append(r)\n",
    "                continue\n",
    "            \n",
    "            t_login_str = r[1]\n",
    "            t_login = datetime.strptime(t_login_str, \"%H:%M:%S%p ; %b %d %y\")\n",
    "            t_logout_str = r[3]\n",
    "            t_logout = datetime.strptime(t_logout_str, \"%H:%M:%S%p ; %b %d %y\")\n",
    "            if t_logout >= t_login:\n",
    "                dt_signed = (t_logout - t_login).total_seconds()\n",
    "                get_nodes_with_time_list.append([r[0],r[2],dt_signed])\n",
    "        \n",
    "    log_rows = sorted(get_nodes_with_time_list)\n",
    "    \n",
    "    for ni,nt in enumerate(get_nodes_list):                       \n",
    "        for i,n in enumerate(get_neighbors_list): \n",
    "            counter = 0\n",
    "            log_time = 0\n",
    "            for ine,ne in enumerate(log_rows): \n",
    "                if nt.name == ne[0] and n.name == ne[1]:\n",
    "#                     time = str(log_rows[ine][2])\n",
    "                    log_time += log_rows[ine][2]#sum(x * int(t) for x, t in zip([3600, 60, 1], time.split(\":\"))) \n",
    "                    counter += 1\n",
    "            if counter != 0:\n",
    "                avg_time = int(log_time / counter)\n",
    "                avg_time_list.append([nt.name,n.name,avg_time])\n",
    "\n",
    "    \n",
    "    for n in get_nodes_list:\n",
    "        for ne in avg_time_list:\n",
    "            if n.name == ne[0]:\n",
    "                n.n_update(ne[1],ne[2])\n",
    "                \n",
    "    travelsWE = Graph('travelsWE', get_nodes_list)\n",
    "\n",
    "        \n",
    "   "
   ]
  },
  {
   "cell_type": "code",
   "execution_count": 2492,
   "metadata": {},
   "outputs": [],
   "source": [
    "# def Create_Graph_From_File (file_name,date_format):\n",
    "\n",
    "#     import csv\n",
    "#     from datetime import datetime, timedelta\n",
    "#     file_path = file_name+'.csv'\n",
    "#     print('test')\n",
    "#     with open(file_path,'r') as f:\n",
    "\n",
    "#         get_nodes_list = []\n",
    "#         get_neighbors_list=[]\n",
    "#         get_nodes_with_time_list=[]\n",
    "#         avg_time_list=[]\n",
    "#         Error_dates_parsing =[]\n",
    "#         reader = csv.reader(f)\n",
    "#         next(reader)                                                             # skip header\n",
    "\n",
    "#         for r in reader:                                                         #Getting Nodes from file\n",
    "#             if len(r) == 4:\n",
    "#                 if Node(r[0]) not in get_nodes_list:\n",
    "#                     get_nodes_list.append(Node(r[0]))    \n",
    "#                 if Node(r[2]) not in get_neighbors_list:\n",
    "#                     get_neighbors_list.append(Node(r[2])) \n",
    "\n",
    "#                 try:\n",
    "#                     datetime.strptime(r[1], date_format)  #01:21:00AM ; Jan 01 16\n",
    "#                 except ValueError:\n",
    "#                     Error_dates_parsing.append(r)\n",
    "#                     continue\n",
    "\n",
    "#                 try:\n",
    "#                     datetime.strptime(r[3], date_format)\n",
    "#                 except ValueError:\n",
    "#                     Error_dates_parsing.append(r)\n",
    "#                     continue\n",
    "\n",
    "#                 t_login_str = r[1]\n",
    "#                 t_login = datetime.strptime(t_login_str, date_format)\n",
    "#                 t_logout_str = r[3]\n",
    "#                 t_logout = datetime.strptime(t_logout_str, date_format)\n",
    "#                 if t_logout >= t_login:\n",
    "#                     dt_signed = (t_logout - t_login).total_seconds()\n",
    "#                     get_nodes_with_time_list.append([r[0],r[2],dt_signed])\n",
    "\n",
    "#         log_rows = sorted(get_nodes_with_time_list)\n",
    "\n",
    "#         for ni,nt in enumerate(get_nodes_list):                       \n",
    "#             for i,n in enumerate(get_neighbors_list): \n",
    "#                 counter = 0\n",
    "#                 log_time = 0\n",
    "#                 for ine,ne in enumerate(log_rows): \n",
    "#                     if nt.name == ne[0] and n.name == ne[1]:\n",
    "#     #                     time = str(log_rows[ine][2])\n",
    "#                         log_time += log_rows[ine][2]#sum(x * int(t) for x, t in zip([3600, 60, 1], time.split(\":\"))) \n",
    "#                         counter += 1\n",
    "#                 if counter != 0:\n",
    "#                     avg_time = int(log_time / counter)\n",
    "#                     avg_time_list.append([nt.name,n.name,avg_time])\n",
    "\n",
    "\n",
    "#         for n in get_nodes_list:\n",
    "#             for ne in avg_time_list:\n",
    "#                 if n.name == ne[0]:\n",
    "#                     n.n_update(ne[1],ne[2])\n",
    "\n",
    "#         return(Graph(file_name, get_nodes_list))\n",
    "\n",
    "        \n",
    "   "
   ]
  },
  {
   "cell_type": "code",
   "execution_count": 2493,
   "metadata": {},
   "outputs": [
    {
     "name": "stdout",
     "output_type": "stream",
     "text": [
      "test\n"
     ]
    }
   ],
   "source": [
    "# T_WE = Create_Graph_From_File('travelsEW',\"%H:%M:%S%p ; %b %d %y\")\n",
    "# T_WE = Create_Graph_From_File('travelsWE','%d/%m/%Y %Hh%Mm')"
   ]
  },
  {
   "cell_type": "code",
   "execution_count": 2474,
   "metadata": {},
   "outputs": [
    {
     "name": "stdout",
     "output_type": "stream",
     "text": [
      "Graph name travelsEW:\n",
      "\n",
      "Node Center, 2 neighbors: name:West, weight:5377 name:North, weight:5308\n",
      "\n",
      "Node East, 1 neighbors: name:South, weight:3596\n",
      "\n"
     ]
    }
   ],
   "source": [
    "print(travelsEW)"
   ]
  },
  {
   "cell_type": "code",
   "execution_count": 2480,
   "metadata": {},
   "outputs": [
    {
     "name": "stdout",
     "output_type": "stream",
     "text": [
      "[['North', '05:55:00PM ; Jam 25 16', 'Center', '07:06:00PM ; Jan 25 16'], ['West', '07:07:00PM ; Feb 10 16', 'North', '08:12:00PM : Feb 10 16'], ['Center', '02:43:00AM ; Feb 00 16', 'South', '05:02:00AM ; Feb 28 16']]\n"
     ]
    }
   ],
   "source": [
    "print(Error_dates_parsing)"
   ]
  },
  {
   "cell_type": "markdown",
   "metadata": {},
   "source": [
    "# Question 1 \n",
    "From each file create a graph whose nodes are the country regions, and whose edges are the roads themselves (if a travel was not recorded between country regions, then it means such road does not exist). The weight of each edge is defined as the average time (in seconds) of all the travels done on that road. When the two graphs are ready, add them together to create the complete graph of the roadmap. "
   ]
  },
  {
   "cell_type": "code",
   "execution_count": 2495,
   "metadata": {},
   "outputs": [
    {
     "name": "stdout",
     "output_type": "stream",
     "text": [
      "Graph name travelsWE:\n",
      "\n",
      "Node South, 1 neighbors: name:East, weight:5235\n",
      "\n",
      "Node West, 2 neighbors: name:North, weight:5877 name:Center, weight:14934\n",
      "\n",
      "Node Center, 4 neighbors: name:East, weight:6073 name:South, weight:22581 name:West, weight:5377 name:North, weight:5308\n",
      "\n",
      "Node North, 1 neighbors: name:Center, weight:8229\n",
      "\n",
      "Graph name travelsEW:\n",
      "\n",
      "Node Center, 2 neighbors: name:West, weight:5377 name:North, weight:5308\n",
      "\n",
      "Node East, 1 neighbors: name:South, weight:3596\n",
      "\n",
      "Graph name travelsEW_travelsWE:\n",
      "\n",
      "Node South, 1 neighbors: name:East, weight:5235\n",
      "\n",
      "Node West, 2 neighbors: name:North, weight:5877 name:Center, weight:14934\n",
      "\n",
      "Node Center, 4 neighbors: name:East, weight:6073 name:South, weight:22581 name:West, weight:5377 name:North, weight:5308\n",
      "\n",
      "Node North, 1 neighbors: name:Center, weight:8229\n",
      "\n",
      "Node East, 1 neighbors: name:South, weight:3596\n",
      "\n"
     ]
    }
   ],
   "source": [
    "print(travelsWE)\n",
    "print(travelsEW)\n",
    "\n",
    "roadmap  = travelsWE + travelsEW\n",
    "print(roadmap)"
   ]
  },
  {
   "cell_type": "markdown",
   "metadata": {},
   "source": [
    "# Question 2 \n",
    "From which region to which region it takes the longest time to travel? "
   ]
  },
  {
   "cell_type": "code",
   "execution_count": 2105,
   "metadata": {},
   "outputs": [
    {
     "name": "stdout",
     "output_type": "stream",
     "text": [
      "('West South', 23775)\n"
     ]
    }
   ],
   "source": [
    "nodes_dict={}\n",
    "for n in roadmap.nodes:\n",
    "    for nn in roadmap.nodes:\n",
    "        if roadmap.is_reachable(n,nn):\n",
    "            sp = roadmap.find_shortest_path(n,nn)\n",
    "            nodes_dict[str(n)+' '+str(nn)] = sp\n",
    "all_shortest_path_list = list(sorted(nodes_dict.items(), key=lambda x: x[1]))\n",
    "\n",
    "print(all_shortest_path_list[-1])"
   ]
  },
  {
   "cell_type": "code",
   "execution_count": 1816,
   "metadata": {},
   "outputs": [
    {
     "name": "stdout",
     "output_type": "stream",
     "text": [
      "Graph name travelsEW:\n",
      "\n",
      "Node Center, 2 neighbors: name:West, weight:5377 name:North, weight:5308\n",
      "\n",
      "Node East, 1 neighbors: name:South, weight:3596\n",
      "\n"
     ]
    }
   ],
   "source": [
    "print(travelsEW)\n"
   ]
  },
  {
   "cell_type": "code",
   "execution_count": 1815,
   "metadata": {},
   "outputs": [
    {
     "name": "stdout",
     "output_type": "stream",
     "text": [
      "Graph name travelsWE:\n",
      "\n",
      "Node South, 1 neighbors: name:East, weight:5235\n",
      "\n",
      "Node West, 2 neighbors: name:North, weight:5877 name:Center, weight:14934\n",
      "\n",
      "Node Center, 2 neighbors: name:East, weight:6073 name:South, weight:22581\n",
      "\n",
      "Node North, 1 neighbors: name:Center, weight:8229\n",
      "\n"
     ]
    }
   ],
   "source": [
    "print(travelsWE)"
   ]
  },
  {
   "cell_type": "markdown",
   "metadata": {},
   "source": [
    "-------------------------------------------------------------------------------------------------------------------------\n",
    "-------------------------------------------------------------------------------------------------------------------------\n",
    "\n",
    "# Part III – Non-directional graph \n",
    "\n",
    "-------------------------------------------------------------------------------------------------------------------------\n",
    "-------------------------------------------------------------------------------------------------------------------------"
   ]
  },
  {
   "cell_type": "code",
   "execution_count": 2455,
   "metadata": {},
   "outputs": [],
   "source": [
    "class NonDirectionalGraph (Graph):\n",
    "    def __int__(self , name, nodes):\n",
    "        Graph.__init__(self,name,nodes)\n",
    "        \n",
    "    def __str__(self):\n",
    "        \n",
    "        print('Graph name {}:\\n'.format(self.name))\n",
    "\n",
    "        description=''\n",
    "\n",
    "        for k,v in self.nodes.items():\n",
    "            description = description + ('Node {}, {} neighbors: ('.format(k, len(v)))\n",
    "            for vk,vv in self.nodes[k].neighbors.items():\n",
    "                description = description + ('{}, '.format(vk))\n",
    "            description = description + ')\\n'\n",
    "        return description\n",
    "\n",
    "    def addedge(self, frm_name, to_name, weight=1):\n",
    "        self.add_edge(frm_name,to_name)\n",
    "        self.add_edge(to_name, frm_name)\n",
    "\n",
    "\n",
    "    def removeedge(self, frm_name, to_name):\n",
    "        self.remove_edge(frm_name,to_name)\n",
    "        self.remove_edge( to_name,frm_name)\n",
    "        \n",
    "\n",
    "    def bfs(self,frm_name, to_name):\n",
    "        queue = [[frm_name]]\n",
    "        visited = set()\n",
    "        while queue:\n",
    "            # Gets the first path in the queue\n",
    "            path = queue.pop(0)\n",
    "\n",
    "            # Gets the last node in the path\n",
    "            vertex = path[-1]\n",
    "\n",
    "            # Checks if we got to the end\n",
    "            if vertex == to_name:\n",
    "                return len(path)-1\n",
    "            # We check if the current node is already in the visited nodes set in order not to recheck it\n",
    "            elif vertex not in visited:\n",
    "                # enumerate all adjacent nodes, construct a new path and push it into the queue\n",
    "                for current_neighbour in self.nodes[vertex].neighbors:\n",
    "                    new_path = list(path)\n",
    "                    new_path.append(current_neighbour)\n",
    "                    queue.append(new_path)\n",
    "\n",
    "                # Mark the vertex as visited\n",
    "                visited.add(vertex)\n",
    "\n",
    "        return bfs(self, frm_name, to_name)\n",
    "        \n"
   ]
  },
  {
   "cell_type": "code",
   "execution_count": 2444,
   "metadata": {},
   "outputs": [
    {
     "data": {
      "text/plain": [
       "<__main__.NonDirectionalGraph at 0x26538a6b6a0>"
      ]
     },
     "execution_count": 2444,
     "metadata": {},
     "output_type": "execute_result"
    }
   ],
   "source": [
    "social_graph"
   ]
  },
  {
   "cell_type": "code",
   "execution_count": 2418,
   "metadata": {},
   "outputs": [],
   "source": [
    "g_test.add_edge('N8','N7')"
   ]
  },
  {
   "cell_type": "code",
   "execution_count": 2135,
   "metadata": {},
   "outputs": [],
   "source": [
    "Nodes_list = [N1,N2,N3,N4,N5,N6,N7,N8,N9,N10]\n",
    "Nodes_list1 = [N10]\n",
    "non_g_test = NonDirectionalGraph('sivan', Nodes_list)"
   ]
  },
  {
   "cell_type": "code",
   "execution_count": 2450,
   "metadata": {},
   "outputs": [
    {
     "name": "stdout",
     "output_type": "stream",
     "text": [
      "Graph name sivan:\n",
      "\n",
      "Node N1, 3 neighbors: name:N4, weight:20 name:N5, weight:20 name:N6, weight:5\n",
      "\n",
      "Node N2, 3 neighbors: name:N3, weight:5 name:N4, weight:10 name:N5, weight:40\n",
      "\n",
      "Node N3, 2 neighbors: name:N4, weight:20 name:N6, weight:5\n",
      "\n",
      "Node N4, 1 neighbors: name:N5, weight:10\n",
      "\n",
      "Node N5, 1 neighbors: name:N6, weight:5\n",
      "\n",
      "Node N6, 0 neighbors:\n",
      "\n",
      "Node N7, 2 neighbors: name:N6, weight:10 name:N8, weight:1\n",
      "\n",
      "Node N8, 3 neighbors: name:N2, weight:20 name:N1, weight:5 name:N7, weight:1\n",
      "\n",
      "Node N9, 2 neighbors: name:N10, weight:10 name:N2, weight:15\n",
      "\n",
      "Node N10, 2 neighbors: name:N3, weight:15 name:N2, weight:10\n",
      "\n"
     ]
    }
   ],
   "source": [
    "print(non_g_test)"
   ]
  },
  {
   "cell_type": "code",
   "execution_count": 2139,
   "metadata": {},
   "outputs": [],
   "source": [
    "non_g_test.addedge('N8','N7')\n",
    "non_g_test.removeedge('N8','N7')"
   ]
  },
  {
   "cell_type": "markdown",
   "metadata": {},
   "source": [
    "# Question 1 +  Question 2 \n",
    "* What was the highest number of simultaneous friendships? \n",
    "\n",
    "\n",
    "* What was the maximum number of friends Reuben had simultaneously? "
   ]
  },
  {
   "cell_type": "code",
   "execution_count": 2456,
   "metadata": {},
   "outputs": [
    {
     "name": "stdout",
     "output_type": "stream",
     "text": [
      "\n",
      "Asher had the highest number of simultaneous friendships: 12\n",
      "\n",
      "The highest number of simultaneous friendships Reuben had: 10\n"
     ]
    }
   ],
   "source": [
    "social_graph = NonDirectionalGraph('social')\n",
    "Person_Name = ''\n",
    "max_simultaneous_friendships = 0\n",
    "Reuben_max_simultaneous_friendships = 0\n",
    "\n",
    "\n",
    "with open('social.txt','r') as s:\n",
    "    for line in s:\n",
    "        l = line.split()\n",
    "        if 'became' in line:\n",
    "            New_Node1 = Node(l[0])\n",
    "            New_Node2 = Node(l[2])\n",
    "            social_graph.update(New_Node1)\n",
    "            social_graph.update(New_Node2)\n",
    "            social_graph.addedge(New_Node1.name,New_Node2.name)\n",
    "#             print(l[0],l[2],1)\n",
    "        if 'cancelled' in line:\n",
    "            social_graph.removeedge(l[0],l[2])\n",
    "#             print(l[0],l[2],2) \n",
    "    \n",
    "        for k,v in social_graph.nodes.items():\n",
    "            if len(v) > max_simultaneous_friendships:\n",
    "                max_simultaneous_friendships = len(v)\n",
    "                Person_Name = k\n",
    "    \n",
    "    \n",
    "        for k,v in social_graph.nodes.items():\n",
    "            if k == 'Reuben':\n",
    "                if len(v) > Reuben_max_simultaneous_friendships:\n",
    "                    Reuben_max_simultaneous_friendships = len(v)\n",
    "                    \n",
    "    print('\\n{} had the highest number of simultaneous friendships: {}'.format(Person_Name,max_simultaneous_friendships))\n",
    "\n",
    "    print('\\nThe highest number of simultaneous friendships Reuben had: {}'.format(Reuben_max_simultaneous_friendships))\n",
    "            "
   ]
  },
  {
   "cell_type": "code",
   "execution_count": 2457,
   "metadata": {},
   "outputs": [
    {
     "name": "stdout",
     "output_type": "stream",
     "text": [
      "Graph name social:\n",
      "\n",
      "Node Manasseh, 9 neighbors: (Simeon, Judah, Benjamin, Issachar, Zebulun, Joseph, Reuben, Dan, Naphtali, )\n",
      "Node Joseph, 6 neighbors: (Gad, Dan, Simeon, Benjamin, Manasseh, Zebulun, )\n",
      "Node Naphtali, 8 neighbors: (Ephraim, Simeon, Judah, Dan, Levi, Issachar, Manasseh, Gad, )\n",
      "Node Judah, 9 neighbors: (Manasseh, Zebulun, Issachar, Dan, Naphtali, Gad, Levi, Asher, Simeon, )\n",
      "Node Asher, 7 neighbors: (Issachar, Levi, Reuben, Zebulun, Judah, Ephraim, Dan, )\n",
      "Node Dan, 10 neighbors: (Ephraim, Joseph, Simeon, Zebulun, Judah, Levi, Benjamin, Naphtali, Manasseh, Asher, )\n",
      "Node Gad, 6 neighbors: (Ephraim, Joseph, Reuben, Levi, Judah, Naphtali, )\n",
      "Node Issachar, 6 neighbors: (Levi, Zebulun, Asher, Manasseh, Judah, Naphtali, )\n",
      "Node Ephraim, 6 neighbors: (Gad, Naphtali, Dan, Zebulun, Simeon, Asher, )\n",
      "Node Benjamin, 4 neighbors: (Manasseh, Dan, Simeon, Joseph, )\n",
      "Node Zebulun, 9 neighbors: (Ephraim, Issachar, Simeon, Judah, Dan, Manasseh, Levi, Asher, Joseph, )\n",
      "Node Simeon, 8 neighbors: (Manasseh, Zebulun, Ephraim, Joseph, Dan, Naphtali, Benjamin, Judah, )\n",
      "Node Reuben, 4 neighbors: (Gad, Asher, Levi, Manasseh, )\n",
      "Node Levi, 8 neighbors: (Issachar, Gad, Dan, Asher, Judah, Zebulun, Naphtali, Reuben, )\n",
      "\n"
     ]
    }
   ],
   "source": [
    "print(social_graph)"
   ]
  },
  {
   "cell_type": "markdown",
   "metadata": {},
   "source": [
    "# Question 3 \n",
    "At the current graph (considering all the data of the file), what is the maximal path between nodes in the graph?  "
   ]
  },
  {
   "cell_type": "code",
   "execution_count": 2407,
   "metadata": {},
   "outputs": [
    {
     "name": "stdout",
     "output_type": "stream",
     "text": [
      "('Simeon Levi', 2)\n"
     ]
    }
   ],
   "source": [
    "paths_list=[]\n",
    "for n in social_graph.nodes:\n",
    "    for nn in social_graph.nodes:\n",
    "        if n != nn:\n",
    "            if social_graph.is_reachable(n,nn):\n",
    "                if social_graph.nodes[n].is_neighbor(nn):\n",
    "                    nodes_dict[str(n)+' '+str(nn)] = 1\n",
    "                else:\n",
    "                    if str(nn)+' '+str(n) not in nodes_dict:\n",
    "                        nodes_dict[str(n)+' '+str(nn)] = social_graph.bfs(n,nn)\n",
    "all_shortest_path_list = list(sorted(nodes_dict.items(), key=lambda x: x[1]))\n",
    "print(all_shortest_path_list[-1])\n"
   ]
  },
  {
   "cell_type": "code",
   "execution_count": 2341,
   "metadata": {},
   "outputs": [
    {
     "name": "stdout",
     "output_type": "stream",
     "text": [
      "\n",
      "Asher had the highest number of simultaneous friendships: 12\n",
      "\n",
      "The highest number of simultaneous friendships Reuben had: 10\n"
     ]
    }
   ],
   "source": [
    "social_graph = NonDirectionalGraph('social')\n",
    "Person_Name = ''\n",
    "max_simultaneous_friendships = 0\n",
    "Reuben_max_simultaneous_friendships = 0\n",
    "\n",
    "\n",
    "with open('social.txt','r') as s:\n",
    "    for line in s:\n",
    "        l = line.split()\n",
    "        if 'became' in line:\n",
    "            New_Node1 = Node(l[0])\n",
    "            New_Node2 = Node(l[2])\n",
    "            social_graph.update(New_Node1)\n",
    "            social_graph.update(New_Node2)\n",
    "            social_graph.addedge(New_Node1.name,New_Node2.name)\n",
    "#             print(l[0],l[2],1)\n",
    "        if 'cancelled' in line:\n",
    "            social_graph.removeedge(l[0],l[2])\n",
    "#             print(l[0],l[2],2) \n",
    "    \n",
    "        for k,v in social_graph.nodes.items():\n",
    "            if len(v) > max_simultaneous_friendships:\n",
    "                max_simultaneous_friendships = len(v)\n",
    "                Person_Name = k\n",
    "    \n",
    "    \n",
    "        for k,v in social_graph.nodes.items():\n",
    "            if k == 'Reuben':\n",
    "                if len(v) > Reuben_max_simultaneous_friendships:\n",
    "                    Reuben_max_simultaneous_friendships = len(v)\n",
    "                    \n",
    "    print('\\n{} had the highest number of simultaneous friendships: {}'.format(Person_Name,max_simultaneous_friendships))\n",
    "\n",
    "    print('\\nThe highest number of simultaneous friendships Reuben had: {}'.format(Reuben_max_simultaneous_friendships))\n",
    "            "
   ]
  },
  {
   "cell_type": "code",
   "execution_count": 2496,
   "metadata": {},
   "outputs": [
    {
     "name": "stdout",
     "output_type": "stream",
     "text": [
      "Graph name social:\n",
      "\n",
      "Node Manasseh, 9 neighbors: (Simeon, Judah, Benjamin, Issachar, Zebulun, Joseph, Reuben, Dan, Naphtali, )\n",
      "Node Joseph, 6 neighbors: (Gad, Dan, Simeon, Benjamin, Manasseh, Zebulun, )\n",
      "Node Naphtali, 8 neighbors: (Ephraim, Simeon, Judah, Dan, Levi, Issachar, Manasseh, Gad, )\n",
      "Node Judah, 9 neighbors: (Manasseh, Zebulun, Issachar, Dan, Naphtali, Gad, Levi, Asher, Simeon, )\n",
      "Node Asher, 7 neighbors: (Issachar, Levi, Reuben, Zebulun, Judah, Ephraim, Dan, )\n",
      "Node Dan, 10 neighbors: (Ephraim, Joseph, Simeon, Zebulun, Judah, Levi, Benjamin, Naphtali, Manasseh, Asher, )\n",
      "Node Gad, 6 neighbors: (Ephraim, Joseph, Reuben, Levi, Judah, Naphtali, )\n",
      "Node Issachar, 6 neighbors: (Levi, Zebulun, Asher, Manasseh, Judah, Naphtali, )\n",
      "Node Ephraim, 6 neighbors: (Gad, Naphtali, Dan, Zebulun, Simeon, Asher, )\n",
      "Node Benjamin, 4 neighbors: (Manasseh, Dan, Simeon, Joseph, )\n",
      "Node Zebulun, 9 neighbors: (Ephraim, Issachar, Simeon, Judah, Dan, Manasseh, Levi, Asher, Joseph, )\n",
      "Node Simeon, 8 neighbors: (Manasseh, Zebulun, Ephraim, Joseph, Dan, Naphtali, Benjamin, Judah, )\n",
      "Node Reuben, 4 neighbors: (Gad, Asher, Levi, Manasseh, )\n",
      "Node Levi, 8 neighbors: (Issachar, Gad, Dan, Asher, Judah, Zebulun, Naphtali, Reuben, )\n",
      "\n"
     ]
    }
   ],
   "source": [
    "print(social_graph)"
   ]
  },
  {
   "cell_type": "markdown",
   "metadata": {},
   "source": [
    "# Question 4 \n",
    "Implement a function called suggest_friend(graph, node_name) that returns the name of the node with the highest number of common friends with node_name, which is not already one of his friends. "
   ]
  },
  {
   "cell_type": "code",
   "execution_count": 2342,
   "metadata": {},
   "outputs": [],
   "source": [
    "def  suggest_friend(Graph, node_name):\n",
    "\n",
    "#     node_name = 'Judah'\n",
    "    not_friends_list = []\n",
    "    friends_list = [f for f in Graph.nodes[node_name].neighbors]\n",
    "    check_list = []\n",
    "\n",
    "    suggested_friend = ''\n",
    "\n",
    "\n",
    "    for n in Graph.nodes:\n",
    "        if n != node_name:\n",
    "            if not Graph.nodes[node_name].is_neighbor(n):\n",
    "                not_friends_list.append(n)\n",
    "\n",
    "    for not_friend in not_friends_list:\n",
    "        counter = 0\n",
    "        for not_friend_neighbors in Graph.nodes[not_friend].neighbors:\n",
    "            if not_friend_neighbors in friends_list:\n",
    "                counter += 1\n",
    "        check_list.append ([not_friend,counter])\n",
    "\n",
    "    return sorted(check_list, key=lambda x: x[1])[-1]\n",
    "            "
   ]
  },
  {
   "cell_type": "code",
   "execution_count": 2338,
   "metadata": {},
   "outputs": [
    {
     "name": "stdout",
     "output_type": "stream",
     "text": [
      "['Manasseh', 'Judah', 'Asher', 'Dan', 'Gad', 'Ephraim', 'Benjamin', 'Zebulun', 'Simeon']\n",
      "['Naphtali', 'Joseph', 'Issachar']\n"
     ]
    }
   ],
   "source": [
    "print(not_friends_list)\n",
    "print(friends_list)"
   ]
  },
  {
   "cell_type": "code",
   "execution_count": 2343,
   "metadata": {},
   "outputs": [
    {
     "data": {
      "text/plain": [
       "['Levi', 6]"
      ]
     },
     "execution_count": 2343,
     "metadata": {},
     "output_type": "execute_result"
    }
   ],
   "source": [
    "suggest_friend(social_graph,'Manasseh')"
   ]
  },
  {
   "cell_type": "code",
   "execution_count": 2498,
   "metadata": {},
   "outputs": [
    {
     "data": {
      "text/plain": [
       "['Ephraim', 6]"
      ]
     },
     "execution_count": 2498,
     "metadata": {},
     "output_type": "execute_result"
    }
   ],
   "source": [
    "suggest_friend(social_graph,'Judah')"
   ]
  },
  {
   "cell_type": "code",
   "execution_count": null,
   "metadata": {},
   "outputs": [],
   "source": []
  }
 ],
 "metadata": {
  "kernelspec": {
   "display_name": "Python 3",
   "language": "python",
   "name": "python3"
  },
  "language_info": {
   "codemirror_mode": {
    "name": "ipython",
    "version": 3
   },
   "file_extension": ".py",
   "mimetype": "text/x-python",
   "name": "python",
   "nbconvert_exporter": "python",
   "pygments_lexer": "ipython3",
   "version": "3.6.4"
  }
 },
 "nbformat": 4,
 "nbformat_minor": 2
}
